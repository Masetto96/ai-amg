{
 "cells": [
  {
   "cell_type": "code",
   "execution_count": 1,
   "metadata": {},
   "outputs": [],
   "source": [
    "%load_ext autoreload\n",
    "%autoreload 2"
   ]
  },
  {
   "cell_type": "code",
   "execution_count": 2,
   "metadata": {},
   "outputs": [
    {
     "name": "stdout",
     "output_type": "stream",
     "text": [
      "/home/stef/projects/ai-amg\n"
     ]
    }
   ],
   "source": [
    "import os\n",
    "\n",
    "# Set the working directory to the main directory\n",
    "os.chdir(os.path.dirname(os.path.abspath('')))\n",
    "\n",
    "# Verify the current working directory\n",
    "print(os.getcwd())"
   ]
  },
  {
   "cell_type": "code",
   "execution_count": 3,
   "metadata": {},
   "outputs": [],
   "source": [
    "from music_gen.chord_generator import ChordProgressionGenerator\n",
    "from music_gen.ableton_controllers import AbletonOSCController, AbletonMetaController\n",
    "# from chord_generator import ChordProgressionGenerator\n",
    "from music_gen.helpers import chord_to_midi, transpose_midi_chords"
   ]
  },
  {
   "cell_type": "code",
   "execution_count": 25,
   "metadata": {},
   "outputs": [],
   "source": [
    "# chord_prog = ChordProgressionGenerator()\n",
    "controller = AbletonOSCController()\n",
    "\n",
    "controller.song.set_tempo(200)\n",
    "\n",
    "# controller.device.set_parameter(0, 0, 0, 0) # controlling frequency of filter\n",
    "\n",
    "# prog = chord_prog.generate_progression(0.5, 0.5)\n",
    "# midi_chords, midi_bass = chord_to_midi(prog)\n",
    "# controller.clip.add_notes(0, 0, midi_chords)\n",
    "# # controller.song.set_tempo(100) \n",
    "# arousal = -0.8 # between -1 and 1\n",
    "# # Map arousal to arp rate (1-127 range)\n",
    "# arp_rate = ((arousal + 1) / 2) * (127 - 1) + 1  # Rescale to 1-12\n",
    "# # track number 2, first device (that is the instrument)\n",
    "# controller.device.set_parameter(0, 0, 0, 1) # controlling frequency of filter"
   ]
  },
  {
   "cell_type": "code",
   "execution_count": 4,
   "metadata": {},
   "outputs": [
    {
     "name": "stdout",
     "output_type": "stream",
     "text": [
      "Resulting chord with smooth voice leading: [71, 62, 65, 69]\n"
     ]
    }
   ],
   "source": [
    "import numpy as np\n",
    "from scipy.optimize import linear_sum_assignment\n",
    "\n",
    "def voice_leading(chord_a, chord_b):\n",
    "    # Sort the chords\n",
    "    chord_a_sorted = sorted(chord_a)\n",
    "    chord_b_sorted = sorted(chord_b)\n",
    "    \n",
    "    # Create a cost matrix for pairings\n",
    "    n = len(chord_a_sorted)\n",
    "    m = len(chord_b_sorted)\n",
    "    cost_matrix = np.zeros((n, m))\n",
    "    \n",
    "    for i, note_a in enumerate(chord_a_sorted):\n",
    "        for j, note_b in enumerate(chord_b_sorted):\n",
    "            # Cost is the minimum distance between two notes, considering wrap-around\n",
    "            direct_move = abs(note_b - note_a)\n",
    "            wrap_around = 12 - direct_move\n",
    "            cost_matrix[i, j] = min(direct_move, wrap_around)\n",
    "    \n",
    "    # Solve the assignment problem\n",
    "    row_indices, col_indices = linear_sum_assignment(cost_matrix)\n",
    "    \n",
    "    # Map notes from chord_a to chord_b\n",
    "    new_chord = [chord_b_sorted[j] for i, j in zip(row_indices, col_indices)]\n",
    "    \n",
    "    return new_chord\n",
    "\n",
    "# Example usage\n",
    "chord_a = [60, 64, 67, 69]  # C major triad\n",
    "chord_b = [62, 65, 69, 71]  # D minor triad\n",
    "\n",
    "result = voice_leading(chord_a, chord_b)\n",
    "print(\"Resulting chord with smooth voice leading:\", result)"
   ]
  },
  {
   "cell_type": "code",
   "execution_count": null,
   "metadata": {},
   "outputs": [
    {
     "name": "stdout",
     "output_type": "stream",
     "text": [
      "Selected Mode: phrygian\n",
      "Bar 1: Chords [61. 52. 56. 59.]\n",
      "Bar 2: Chords [54. 57. 61. 52.]\n",
      "Bar 3: Chords [56. 59. 62. 54.]\n",
      "Bar 4: Chords [61. 52. 56. 59.]\n"
     ]
    }
   ],
   "source": [
    "import numpy as np\n",
    "\n",
    "def generate_mode_chords(valence):\n",
    "    \"\"\"\n",
    "    Generate chord sequences based on valence and arousal inputs.\n",
    "\n",
    "    Parameters:\n",
    "    - valence (float): Emotional valence, a value between 0 and 1.\n",
    "    - arousal (float): Emotional arousal, a value between 0 and 1.\n",
    "    - delay (int): Duration (in seconds) to run the generation.\n",
    "\n",
    "    Returns:\n",
    "    - List of generated chord sequences for each bar.\n",
    "    \"\"\"\n",
    "    # Define chord sets and modes\n",
    "    chordlist = np.array([\n",
    "        [60, 64, 55, 59],\n",
    "        [62, 65, 57, 60],\n",
    "        [64, 55, 59, 62],\n",
    "        [60, 65, 57, 64],\n",
    "        [55, 59, 62, 65],\n",
    "        [57, 60, 64, 55],\n",
    "        [59, 62, 65, 57]\n",
    "    ])\n",
    "\n",
    "    modes = ['lydian', 'ionian', 'mixolydian', 'dorian', 'aeolian', 'phrygian', 'locrian']\n",
    "    mode_map = [\n",
    "        [3, 6, 0, 3],    # Lydian\n",
    "        [0, 3, 4, 0],    # Ionian\n",
    "        [4, 0, 1, 4],    # Mixolydian\n",
    "        [1, 4, 5, 1],    # Dorian\n",
    "        [5, 1, 2, 5],    # Aeolian\n",
    "        [2, 5, 6, 2],    # Phrygian\n",
    "        [6, 2, 3, 6]     # Locrian\n",
    "    ]\n",
    "\n",
    "    # Build mode set (adjusting pitches by lowering 3 semitones)\n",
    "    modeset = np.zeros((4, 4, 7))\n",
    "    for i, mode_indices in enumerate(mode_map):\n",
    "        for j in range(4):\n",
    "            modeset[j, :, i] = chordlist[mode_indices[j], :]\n",
    "    modeset -= 3\n",
    "\n",
    "    # Determine mode based on valence\n",
    "    mode_index = 7 - round(valence * 6) - 1\n",
    "    mode_name = modes[int(mode_index)]\n",
    "    print(f\"Selected Mode: {mode_name}\")\n",
    "\n",
    "    # Generate chord sequence for the duration\n",
    "    chord_sequence = []\n",
    "    for bar in range(4):\n",
    "        chords = modeset[bar, :, mode_index]\n",
    "        chord_sequence.append(chords)\n",
    "        print(f\"Bar {bar + 1}: Chords {chords}\")\n",
    "\n",
    "    return chord_sequence\n",
    "\n",
    "\n",
    "# Example usage\n",
    "valence = 0.2 # Example valence\n",
    "generated_chords = generate_mode_chords(valence)"
   ]
  }
 ],
 "metadata": {
  "kernelspec": {
   "display_name": ".ai-amg.venv",
   "language": "python",
   "name": "python3"
  },
  "language_info": {
   "codemirror_mode": {
    "name": "ipython",
    "version": 3
   },
   "file_extension": ".py",
   "mimetype": "text/x-python",
   "name": "python",
   "nbconvert_exporter": "python",
   "pygments_lexer": "ipython3",
   "version": "3.11.2"
  }
 },
 "nbformat": 4,
 "nbformat_minor": 2
}
