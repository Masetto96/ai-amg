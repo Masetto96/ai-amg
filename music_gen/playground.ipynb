{
 "cells": [
  {
   "cell_type": "markdown",
   "metadata": {},
   "source": [
    "# TODO:\n",
    "- Sometimes the chord progression is missing some chords, strange\n",
    "\n",
    "## ideas\n",
    "- Add valence in the equation of midi-velocity computation x\n",
    "- Add global modulation\n",
    "    - Change bpm based on arousal\n",
    "    - Control gain/volume of tracks based on emotions\n",
    "\n",
    "- Maybe move saturator to send track?\n",
    "- Do the drums and bass differently\n"
   ]
  },
  {
   "cell_type": "markdown",
   "metadata": {},
   "source": [
    "### Track 1 (piano)\n",
    "- mapping emotions to macro params of ableton. What else we got?\n",
    "\n",
    "### Track 2 (arpeggiator)\n",
    "- Control arp rate based on arousal, this for rhythm!\n",
    "- Control dry/wet of saturator based of inverse valence\n",
    "\n",
    "### Track 3 (bass)\n",
    "- weighted sum to control drive param\n",
    "\n",
    "### Track 4 (drums)\n",
    "- Control frequency of filter\n",
    "- Note that drums is an audio clip and not midi"
   ]
  },
  {
   "cell_type": "markdown",
   "metadata": {},
   "source": [
    "# Control Ableton with OSC"
   ]
  },
  {
   "cell_type": "code",
   "execution_count": 1,
   "metadata": {},
   "outputs": [],
   "source": [
    "%load_ext autoreload\n",
    "%autoreload 2"
   ]
  },
  {
   "cell_type": "code",
   "execution_count": 12,
   "metadata": {},
   "outputs": [],
   "source": [
    "from chord_generator import ChordProgressionGenerator\n",
    "from ableton_controllers import AbletonOSCController\n",
    "# from chord_generator import ChordProgressionGenerator\n",
    "from helpers import chord_to_midi, transpose_midi_chords"
   ]
  },
  {
   "cell_type": "code",
   "execution_count": 14,
   "metadata": {},
   "outputs": [],
   "source": [
    "chord_prog = ChordProgressionGenerator()\n",
    "prog = chord_prog.generate_progression(0.5, 0.5)\n",
    "midi_chords, midi_bass = chord_to_midi(prog)\n",
    "# # controller.song.set_tempo(100) \n",
    "# arousal = -0.8 # between -1 and 1\n",
    "# # Map arousal to arp rate (1-127 range)\n",
    "# arp_rate = ((arousal + 1) / 2) * (127 - 1) + 1  # Rescale to 1-12\n",
    "# # track number 2, first device (that is the instrument)\n",
    "controller = AbletonOSCController()\n",
    "controller.clip.add_notes(0, 0, midi_chords)\n",
    "# controller.device.set_parameter(0, 0, 0, 1) # controlling frequency of filter"
   ]
  }
 ],
 "metadata": {
  "kernelspec": {
   "display_name": "ableton",
   "language": "python",
   "name": "python3"
  },
  "language_info": {
   "codemirror_mode": {
    "name": "ipython",
    "version": 3
   },
   "file_extension": ".py",
   "mimetype": "text/x-python",
   "name": "python",
   "nbconvert_exporter": "python",
   "pygments_lexer": "ipython3",
   "version": "3.13.0"
  }
 },
 "nbformat": 4,
 "nbformat_minor": 2
}
