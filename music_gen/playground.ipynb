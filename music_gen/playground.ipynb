{
 "cells": [
  {
   "cell_type": "markdown",
   "metadata": {},
   "source": [
    "# Control Ableton with OSC"
   ]
  },
  {
   "cell_type": "code",
   "execution_count": 1,
   "metadata": {},
   "outputs": [],
   "source": [
    "%load_ext autoreload\n",
    "%autoreload 2"
   ]
  },
  {
   "cell_type": "code",
   "execution_count": 2,
   "metadata": {},
   "outputs": [
    {
     "name": "stdout",
     "output_type": "stream",
     "text": [
      "/home/stef/projects/ai-amg\n"
     ]
    }
   ],
   "source": [
    "import os\n",
    "\n",
    "# Set the working directory to the main directory\n",
    "os.chdir(os.path.dirname(os.path.abspath('')))\n",
    "\n",
    "# Verify the current working directory\n",
    "print(os.getcwd())"
   ]
  },
  {
   "cell_type": "code",
   "execution_count": 3,
   "metadata": {},
   "outputs": [],
   "source": [
    "from music_gen.chord_generator import ChordProgressionGenerator\n",
    "from music_gen.ableton_controllers import AbletonOSCController, AbletonMetaController\n",
    "# from chord_generator import ChordProgressionGenerator\n",
    "from music_gen.helpers import chord_to_midi, transpose_midi_chords"
   ]
  },
  {
   "cell_type": "code",
   "execution_count": 1,
   "metadata": {},
   "outputs": [
    {
     "name": "stdout",
     "output_type": "stream",
     "text": [
      "Valence: 0.5\n",
      "Selected Mode: dorian\n",
      "Mode Notes: [0, 2, 3, 5, 7, 9, 10]\n"
     ]
    }
   ],
   "source": [
    "valence = 0.5  # Example valence value between 0 and 1\n",
    "\n",
    "# Modes dictionary\n",
    "modes = {\n",
    "    \"lydian\": [0, 2, 4, 6, 7, 9, 11],\n",
    "    \"ionian\": [0, 2, 4, 5, 7, 9, 11],\n",
    "    \"mixolydian\": [0, 2, 4, 5, 7, 9, 10],\n",
    "    \"dorian\": [0, 2, 3, 5, 7, 9, 10],\n",
    "    \"aeolian\": [0, 2, 3, 5, 7, 8, 10],\n",
    "    \"phrygian\": [0, 1, 3, 5, 7, 8, 10],\n",
    "    \"locrian\": [0, 1, 3, 5, 6, 8, 10],\n",
    "}\n",
    "\n",
    "# Calculate mode\n",
    "mode_index = int(7 - (6 * valence)) - 1  # Subtract 1 for zero-based indexing\n",
    "mode_names = list(modes.keys())         # Get mode names in order\n",
    "selected_mode = mode_names[mode_index]  # Fetch the mode name\n",
    "mode_notes = modes[selected_mode]       # Fetch the mode notes\n",
    "\n",
    "# Output results\n",
    "print(f\"Valence: {valence}\")\n",
    "print(f\"Selected Mode: {selected_mode}\")\n",
    "print(f\"Mode Notes: {mode_notes}\")\n"
   ]
  },
  {
   "cell_type": "code",
   "execution_count": 25,
   "metadata": {},
   "outputs": [],
   "source": [
    "# chord_prog = ChordProgressionGenerator()\n",
    "controller = AbletonOSCController()\n",
    "\n",
    "controller.song.set_tempo(200)\n",
    "\n",
    "# controller.device.set_parameter(0, 0, 0, 0) # controlling frequency of filter\n",
    "\n",
    "# prog = chord_prog.generate_progression(0.5, 0.5)\n",
    "# midi_chords, midi_bass = chord_to_midi(prog)\n",
    "# controller.clip.add_notes(0, 0, midi_chords)\n",
    "# # controller.song.set_tempo(100) \n",
    "# arousal = -0.8 # between -1 and 1\n",
    "# # Map arousal to arp rate (1-127 range)\n",
    "# arp_rate = ((arousal + 1) / 2) * (127 - 1) + 1  # Rescale to 1-12\n",
    "# # track number 2, first device (that is the instrument)\n",
    "# controller.device.set_parameter(0, 0, 0, 1) # controlling frequency of filter"
   ]
  },
  {
   "cell_type": "code",
   "execution_count": null,
   "metadata": {},
   "outputs": [
    {
     "name": "stdout",
     "output_type": "stream",
     "text": [
      "[0, 2, 3, 5, 7, 9, 10] [0, 3, 7, 10]\n"
     ]
    }
   ],
   "source": [
    "from dataclasses import dataclass\n",
    "\n",
    "@dataclass\n",
    "class ChordEvent:\n",
    "    notes: list     # List of MIDI notes\n",
    "    duration: float # Duration in beats (assuming 4/4 time)\n",
    "    velocity: float # MIDI velocity (0-1)\n",
    "\n",
    "class MusicGenerator:\n",
    "    def __init__(self):\n",
    "        self.mode_intervals = [\n",
    "            [0, 2, 4, 6, 7, 9, 11],  # Lydian\n",
    "            [0, 2, 4, 5, 7, 9, 11],  # Ionian\n",
    "            [0, 2, 4, 5, 7, 9, 10],  # Mixolydian\n",
    "            [0, 2, 3, 5, 7, 9, 10],  # Dorian\n",
    "            [0, 2, 3, 5, 7, 8, 10],  # Aeolian\n",
    "            [0, 1, 3, 5, 7, 8, 10],  # Phrygian\n",
    "            [0, 1, 3, 5, 6, 8, 10],  # Locrian\n",
    "        ]\n",
    "        self.fifth_order = [\n",
    "            'C', 'G', 'D', 'A', 'E', 'B', 'F♯/G♭', 'C♯/D♭',\n",
    "            'G♯/A♭', 'D♯/E♭', 'A♯/B♭', 'F'\n",
    "        ]\n",
    "        self.note_to_midi = self._build_note_to_midi_map()\n",
    "\n",
    "    def _build_note_to_midi_map(self):\n",
    "        \"\"\"Create a dictionary mapping notes to MIDI numbers.\"\"\"\n",
    "        base_notes = {\n",
    "            'C': 0, 'C♯/D♭': 1, 'D': 2, 'D♯/E♭': 3, 'E': 4, 'F': 5,\n",
    "            'F♯/G♭': 6, 'G': 7, 'G♯/A♭': 8, 'A': 9, 'A♯/B♭': 10, 'B': 11\n",
    "        }\n",
    "        return {f\"{note}{octave}\": base_note + (octave * 12)\n",
    "                for octave in range(0, 9)\n",
    "                for note, base_note in base_notes.items()}\n",
    "\n",
    "    def _get_chord_mode(self, valence):\n",
    "        \"\"\"Returns the mode intervals and notes to compose a chord.\"\"\"\n",
    "        mode_idx = int(7 - (6 * valence)) - 1\n",
    "        mode = self.mode_intervals[mode_idx]\n",
    "        indexes = [0, 2, 4, 6]\n",
    "        chord_notes = [mode[i] for i in indexes]\n",
    "        return mode, chord_notes\n",
    "\n",
    "    def _construct_chord(self, tonal_midi, chord_indexes):\n",
    "        chord_midi_notes = [tonal_midi + note for note in chord_indexes]\n",
    "        return ChordEvent(notes=chord_midi_notes, duration=8, velocity=self.compute_velocity())            \n",
    "\n",
    "# Example Usage\n",
    "generator = MusicGenerator()\n",
    "valence = 0.5\n",
    "tonal_center = 'C'\n",
    "\n",
    "\n",
    "# Get the chord mode\n",
    "mode, chord_indexes = generator._get_chord_mode(valence)\n",
    "print(mode, chord_indexes)\n",
    "# # Construct the chord event\n",
    "# chord_event = generator._construct_chord(tonal_center, chord_indexes)\n",
    "# print(chord_event, mode, chord_indexes)\n"
   ]
  }
 ],
 "metadata": {
  "kernelspec": {
   "display_name": ".ai-amg.venv",
   "language": "python",
   "name": "python3"
  },
  "language_info": {
   "codemirror_mode": {
    "name": "ipython",
    "version": 3
   },
   "file_extension": ".py",
   "mimetype": "text/x-python",
   "name": "python",
   "nbconvert_exporter": "python",
   "pygments_lexer": "ipython3",
   "version": "3.11.2"
  }
 },
 "nbformat": 4,
 "nbformat_minor": 2
}
