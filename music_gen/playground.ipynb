{
 "cells": [
  {
   "cell_type": "markdown",
   "metadata": {},
   "source": [
    "# Control Ableton with OSC"
   ]
  },
  {
   "cell_type": "code",
   "execution_count": 4,
   "metadata": {},
   "outputs": [
    {
     "name": "stdout",
     "output_type": "stream",
     "text": [
      "The autoreload extension is already loaded. To reload it, use:\n",
      "  %reload_ext autoreload\n"
     ]
    }
   ],
   "source": [
    "%load_ext autoreload\n",
    "%autoreload 2"
   ]
  },
  {
   "cell_type": "code",
   "execution_count": 7,
   "metadata": {},
   "outputs": [
    {
     "name": "stdout",
     "output_type": "stream",
     "text": [
      "/home/stef/projects/ai-amg\n"
     ]
    }
   ],
   "source": [
    "import os\n",
    "\n",
    "# Set the working directory to the main directory\n",
    "os.chdir(os.path.dirname(os.path.abspath('')))\n",
    "\n",
    "# Verify the current working directory\n",
    "print(os.getcwd())"
   ]
  },
  {
   "cell_type": "code",
   "execution_count": 12,
   "metadata": {},
   "outputs": [],
   "source": [
    "from chord_generator import ChordProgressionGenerator\n",
    "from music_gen.ableton_controllers import AbletonOSCController, AbletonMetaController\n",
    "# from chord_generator import ChordProgressionGenerator\n",
    "from music_gen.helpers import chord_to_midi, transpose_midi_chords"
   ]
  },
  {
   "cell_type": "code",
   "execution_count": null,
   "metadata": {},
   "outputs": [],
   "source": [
    "ctrl = AbletonMetaController()"
   ]
  },
  {
   "cell_type": "code",
   "execution_count": 13,
   "metadata": {},
   "outputs": [],
   "source": [
    "chord_prog = ChordProgressionGenerator()\n",
    "controller = AbletonOSCController()\n",
    "\n",
    "prog = chord_prog.generate_progression(0.5, 0.5)\n",
    "midi_chords, midi_bass = chord_to_midi(prog)\n",
    "controller.clip.add_notes(0, 0, midi_chords)\n",
    "# # controller.song.set_tempo(100) \n",
    "# arousal = -0.8 # between -1 and 1\n",
    "# # Map arousal to arp rate (1-127 range)\n",
    "# arp_rate = ((arousal + 1) / 2) * (127 - 1) + 1  # Rescale to 1-12\n",
    "# # track number 2, first device (that is the instrument)\n",
    "# controller.device.set_parameter(0, 0, 0, 1) # controlling frequency of filter"
   ]
  }
 ],
 "metadata": {
  "kernelspec": {
   "display_name": "ableton",
   "language": "python",
   "name": "python3"
  },
  "language_info": {
   "codemirror_mode": {
    "name": "ipython",
    "version": 3
   },
   "file_extension": ".py",
   "mimetype": "text/x-python",
   "name": "python",
   "nbconvert_exporter": "python",
   "pygments_lexer": "ipython3",
   "version": "3.11.2"
  }
 },
 "nbformat": 4,
 "nbformat_minor": 2
}
